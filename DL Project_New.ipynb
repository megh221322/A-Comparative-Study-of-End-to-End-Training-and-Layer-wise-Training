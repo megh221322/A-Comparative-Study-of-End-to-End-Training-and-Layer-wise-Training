{
 "cells": [
  {
   "cell_type": "markdown",
   "id": "04af90fb",
   "metadata": {},
   "source": [
    "# A Comparative Study of  End-to-End Training and Layer-wise Training"
   ]
  },
  {
   "cell_type": "markdown",
   "id": "f460557f",
   "metadata": {},
   "source": [
    "## Group Members:\n",
    "\n",
    "Naveen Isukapatla(ni82)<br>\n",
    "Meghna Reddi(mr936)<br>\n",
    "Shiva Karthik(sp3254)<br>\n",
    "\n",
    "\n"
   ]
  },
  {
   "cell_type": "markdown",
   "id": "94697c7f",
   "metadata": {},
   "source": [
    "## Problem Statement"
   ]
  },
  {
   "cell_type": "markdown",
   "id": "caaf910d",
   "metadata": {},
   "source": [
    " In this project, we will test the hypothesis that layerwise training of neural networks has a different implicit bias than gradient descent training of neural networks. Our aim is to show this using a few different metrics:\n"
   ]
  },
  {
   "cell_type": "markdown",
   "id": "aafec6c1",
   "metadata": {},
   "source": [
    " Test error - do the above 3 algorithms achieve similar performance?"
   ]
  },
  {
   "cell_type": "markdown",
   "id": "e8f511ca",
   "metadata": {},
   "source": [
    " Norm of the neural network - do the above 3 algorithms find the same solutions in terms of the norm (defined as products of the norms of all the layers)?"
   ]
  },
  {
   "cell_type": "markdown",
   "id": "3a5eb0bb",
   "metadata": {},
   "source": [
    "## End-to-End Training"
   ]
  },
  {
   "cell_type": "markdown",
   "id": "a6a2892e",
   "metadata": {},
   "source": [
    "End-to-end training refers to a training approach in machine learning where the entire system or model is trained directly on input data to produce the desired output, without breaking it down into separate stages or components.\n",
    "\n",
    "In the context of neural networks, end-to-end training involves training the entire neural network model, including all its layers, from input to output, using backpropagation and gradient descent or its variants. This means that the model learns to extract relevant features directly from the raw input data and to map it to the desired output in a single step, without the need for manual feature engineering or intermediate processing stages."
   ]
  },
  {
   "cell_type": "code",
   "execution_count": 180,
   "id": "9b3f00ad",
   "metadata": {},
   "outputs": [],
   "source": [
    "import tensorflow as tf\n",
    "import numpy as np\n",
    "from tensorflow.keras.datasets import mnist\n",
    "from tensorflow.keras.models import Sequential\n",
    "from tensorflow.keras.layers import Dense, Flatten\n",
    "from tensorflow.keras.utils import to_categorical\n",
    "from tensorflow.keras.optimizers import Optimizer\n",
    "from tensorflow.keras.optimizers import SGD\n",
    "from tensorflow.keras import backend as K\n"
   ]
  },
  {
   "cell_type": "code",
   "execution_count": 181,
   "id": "64a1ee54",
   "metadata": {},
   "outputs": [],
   "source": [
    "def load_data():\n",
    "    (x_train, y_train), (x_test, y_test) = mnist.load_data()\n",
    "    x_train = x_train / 255.0\n",
    "    x_test = x_test/ 255.0\n",
    "    y_train = to_categorical(y_train, 10)\n",
    "    y_test = to_categorical(y_test, 10)\n",
    "\n",
    "    return x_train, y_train, x_test, y_test"
   ]
  },
  {
   "cell_type": "markdown",
   "id": "fb6ebc4e",
   "metadata": {},
   "source": [
    "## Stochastic Gradient Descent( End to End Model)"
   ]
  },
  {
   "cell_type": "markdown",
   "id": "b11eb4d7",
   "metadata": {},
   "source": [
    "Stochastic Gradient Descent (SGD) is a widely used optimization algorithm for training machine learning models, including neural networks. It is a variant of the standard Gradient Descent algorithm, designed to handle large datasets efficiently.\n",
    "\n",
    "In traditional Gradient Descent, the model parameters (e.g., weights and biases in a neural network) are updated based on the average gradient of the loss function computed over the entire training dataset. This means that the gradient is computed by summing up the gradients of the loss function for each training example, which can be computationally expensive, especially for large datasets.\n",
    "\n",
    "SGD addresses this issue by updating the model parameters using the gradient of the loss function computed for only a single training example (or a small subset of examples) at each iteration. This results in much faster updates, as only a fraction of the data needs to be processed for each update step."
   ]
  },
  {
   "cell_type": "code",
   "execution_count": 182,
   "id": "0d61381a",
   "metadata": {},
   "outputs": [
    {
     "name": "stderr",
     "output_type": "stream",
     "text": [
      "WARNING:absl:`lr` is deprecated in Keras optimizer, please use `learning_rate` or use the legacy optimizer, e.g.,tf.keras.optimizers.legacy.SGD.\n"
     ]
    },
    {
     "name": "stdout",
     "output_type": "stream",
     "text": [
      "Epoch 1/15\n",
      "1875/1875 [==============================] - 6s 3ms/step - loss: 0.6425 - accuracy: 0.8328\n",
      "Epoch 2/15\n",
      "1875/1875 [==============================] - 5s 3ms/step - loss: 0.2971 - accuracy: 0.9139\n",
      "Epoch 3/15\n",
      "1875/1875 [==============================] - 4s 2ms/step - loss: 0.2451 - accuracy: 0.9293\n",
      "Epoch 4/15\n",
      "1875/1875 [==============================] - 4s 2ms/step - loss: 0.2114 - accuracy: 0.9394\n",
      "Epoch 5/15\n",
      "1875/1875 [==============================] - 4s 2ms/step - loss: 0.1869 - accuracy: 0.9469\n",
      "Epoch 6/15\n",
      "1875/1875 [==============================] - 5s 3ms/step - loss: 0.1671 - accuracy: 0.9525\n",
      "Epoch 7/15\n",
      "1875/1875 [==============================] - 5s 3ms/step - loss: 0.1516 - accuracy: 0.9563\n",
      "Epoch 8/15\n",
      "1875/1875 [==============================] - 6s 3ms/step - loss: 0.1382 - accuracy: 0.9608\n",
      "Epoch 9/15\n",
      "1875/1875 [==============================] - 5s 3ms/step - loss: 0.1266 - accuracy: 0.9640\n",
      "Epoch 10/15\n",
      "1875/1875 [==============================] - 4s 2ms/step - loss: 0.1172 - accuracy: 0.9673\n",
      "Epoch 11/15\n",
      "1875/1875 [==============================] - 5s 3ms/step - loss: 0.1087 - accuracy: 0.9690\n",
      "Epoch 12/15\n",
      "1875/1875 [==============================] - 5s 3ms/step - loss: 0.1017 - accuracy: 0.9714\n",
      "Epoch 13/15\n",
      "1875/1875 [==============================] - 6s 3ms/step - loss: 0.0948 - accuracy: 0.9731\n",
      "Epoch 14/15\n",
      "1875/1875 [==============================] - 6s 3ms/step - loss: 0.0889 - accuracy: 0.9743\n",
      "Epoch 15/15\n",
      "1875/1875 [==============================] - 5s 3ms/step - loss: 0.0837 - accuracy: 0.9755\n",
      "[0.0, 16.083576, 14.457506, 7.5412316]\n",
      "[0.909500002861023, 0.9275000095367432, 0.9383000135421753, 0.9417999982833862, 0.9490000009536743, 0.9524000287055969, 0.9563999772071838, 0.958299994468689, 0.9624999761581421, 0.9634000062942505, 0.9661999940872192, 0.9678000211715698, 0.9700000286102295, 0.9681000113487244, 0.9706000089645386]\n",
      "313/313 [==============================] - 1s 2ms/step - loss: 0.1008 - accuracy: 0.9706\n",
      "\n",
      "Test Loss: 0.1008\n",
      "Test Accuracy: 0.9706\n"
     ]
    }
   ],
   "source": [
    "end_norms=[]\n",
    "def baseline_model():\n",
    "    model = Sequential([\n",
    "        Flatten(input_shape=(28, 28)),\n",
    "        Dense(128, activation='relu'),\n",
    "        Dense(256, activation='relu'),\n",
    "        Dense(10, activation='softmax')\n",
    "    ])\n",
    "    return model\n",
    "x_train,y_train,x_test,y_test = load_data()\n",
    "# Define the SGD optimizer\n",
    "sgd = SGD(lr=0.03)\n",
    "\n",
    "# Get the model\n",
    "model = baseline_model()\n",
    "\n",
    "# Compile the model\n",
    "model.compile(optimizer=sgd, loss='categorical_crossentropy', metrics=['accuracy'])\n",
    "test_accuracy_history_baseline = []\n",
    "# Train the model\n",
    "no_epochs = 15\n",
    "for epoch in range(no_epochs):\n",
    "    print(f'Epoch {epoch+1}/{no_epochs}')\n",
    "    history = model.fit(x_train, y_train, batch_size=32, epochs=1)\n",
    "    _, test_accuracy = model.evaluate(x_test, y_test, verbose=0)\n",
    "    test_accuracy_history_baseline.append(test_accuracy)\n",
    "    \n",
    "for layer in model.layers:\n",
    "    modelend_weights = layer.get_weights()\n",
    "    modelend_norm = np.linalg.norm([np.linalg.norm(w) for w in modelend_weights])  \n",
    "    end_norms.append(modelend_norm)\n",
    "print(end_norms)\n",
    "print(test_accuracy_history_baseline)\n",
    "# Evaluate the model on test data\n",
    "loss, accuracy = model.evaluate(x_test, y_test)\n",
    "print(f'\\nTest Loss: {loss:.4f}')\n",
    "print(f'Test Accuracy: {accuracy:.4f}')"
   ]
  },
  {
   "cell_type": "code",
   "execution_count": 183,
   "id": "306a1537",
   "metadata": {},
   "outputs": [
    {
     "data": {
      "text/plain": [
       "0.9706000089645386"
      ]
     },
     "execution_count": 183,
     "metadata": {},
     "output_type": "execute_result"
    }
   ],
   "source": [
    "End2End_ta_sgd=test_accuracy_history_baseline[-1]\n",
    "End2End_ta_sgd"
   ]
  },
  {
   "cell_type": "code",
   "execution_count": 184,
   "id": "3b4e47bb",
   "metadata": {},
   "outputs": [
    {
     "data": {
      "text/plain": [
       "1753.5505"
      ]
     },
     "execution_count": 184,
     "metadata": {},
     "output_type": "execute_result"
    }
   ],
   "source": [
    "End2End_norm_SGD=np.prod(end_norms[1:])\n",
    "End2End_norm_SGD"
   ]
  },
  {
   "cell_type": "markdown",
   "id": "f6404680",
   "metadata": {},
   "source": [
    "## Coordinate-Descent"
   ]
  },
  {
   "cell_type": "markdown",
   "id": "20dc262e",
   "metadata": {},
   "source": [
    "Coordinate Descent is an optimization algorithm used for minimizing a multivariate function. In the context of training neural networks, Coordinate Descent can be used as an alternative optimization method to algorithms like Stochastic Gradient Descent (SGD).\n",
    "\n",
    "The idea behind Coordinate Descent is to iteratively update the parameters of the model one at a time, while keeping all other parameters fixed. At each iteration, the algorithm selects a single parameter or a group of parameters (a coordinate) to update based on a certain criterion, such as the steepest descent direction or the coordinate with the largest gradient."
   ]
  },
  {
   "cell_type": "code",
   "execution_count": 185,
   "id": "0aa3d032",
   "metadata": {},
   "outputs": [],
   "source": [
    "class CoordinateDescentOptimizer(Optimizer):\n",
    "    def __init__(self,name='CoordinateDescentOptimizer', alpha=0.03, num_iters=15, **kwargs):\n",
    "        super().__init__(name=name,**kwargs)\n",
    "        self._learning_rate = alpha\n",
    "        self.num_iters = num_iters\n",
    "        self.alpha = alpha\n",
    "        \n",
    "    def get_updates(self, loss, params):\n",
    "        grads = self.get_gradients(loss, params)\n",
    "        updates = []\n",
    "\n",
    "        for param, grad in zip(params, grads):\n",
    "            theta = K.get_value(param)\n",
    "            for i in range(self.num_iters):\n",
    "                predictions = self.softmax(X @ theta)\n",
    "                for j in range(theta.shape[1]):\n",
    "                    gradient = self.gradient_categorical_cross_entropy(X, y, theta, predictions)[:, j]\n",
    "                    theta[:, j] = theta[:, j] - self.alpha * gradient\n",
    "                J = self.categorical_cross_entropy(X, y, theta)\n",
    "            updates.append((param, theta))\n",
    "            learning_rate = self.alpha\n",
    "        \n",
    "        return updates\n",
    "\n",
    "    def update_step(self, gradients, variables):\n",
    "        updates = []\n",
    "        for gradient, variable in zip(gradients, variables):\n",
    "            new_variable = variable - self.alpha * gradient\n",
    "            updates.append((variable, new_variable))\n",
    "        return updates\n",
    "\n",
    "    def apply_gradients(self, grads_and_vars):\n",
    "        gradients, variables = zip(*grads_and_vars)\n",
    "        updates = self.update_step(gradients, variables)\n",
    "        for update in updates:\n",
    "            K.update(update[0], update[1])\n",
    "\n",
    "    def categorical_cross_entropy(self, X, y, theta):\n",
    "        m = len(y)\n",
    "        n_classes = theta.shape[1]\n",
    "        logits = X.dot(theta)\n",
    "        exp_logits = np.exp(logits - np.max(logits, axis=1, keepdims=True))\n",
    "        softmax_probs = exp_logits / np.sum(exp_logits, axis=1, keepdims=True)\n",
    "        y_one_hot = np.zeros_like(softmax_probs)\n",
    "        y_labels = np.argmax(y, axis=1)\n",
    "        y_one_hot[np.arange(m), y_labels] = 1\n",
    "\n",
    "        loss = -np.sum(y_one_hot * np.log(softmax_probs + 1e-15)) / m\n",
    "\n",
    "        return loss\n",
    "\n",
    "    def softmax(self, x):\n",
    "        exp_x = np.exp(x - np.max(x, axis=1, keepdims=True))\n",
    "        return exp_x / np.sum(exp_x, axis=1, keepdims=True)\n",
    "\n",
    "    def gradient_categorical_cross_entropy(self, X, y, theta, predictions):\n",
    "        m, n = X.shape\n",
    "        C = theta.shape[1]\n",
    "        gradient = np.zeros_like(theta)\n",
    "        for j in range(C):\n",
    "            for k in range(n):\n",
    "                gradient[k, j] = np.sum(X[:, k] * (predictions[:, j] - (y[:, j])))\n",
    "\n",
    "        return gradient / m"
   ]
  },
  {
   "cell_type": "code",
   "execution_count": 186,
   "id": "4e259ea3",
   "metadata": {},
   "outputs": [
    {
     "name": "stdout",
     "output_type": "stream",
     "text": [
      "Epoch 1/15\n",
      "1875/1875 [==============================] - 4s 2ms/step - loss: 0.4170 - accuracy: 0.8838\n",
      "Epoch 2/15\n",
      "1875/1875 [==============================] - 5s 3ms/step - loss: 0.1998 - accuracy: 0.9413\n",
      "Epoch 3/15\n",
      "1875/1875 [==============================] - 6s 3ms/step - loss: 0.1465 - accuracy: 0.9570\n",
      "Epoch 4/15\n",
      "1875/1875 [==============================] - 5s 3ms/step - loss: 0.1158 - accuracy: 0.9662\n",
      "Epoch 5/15\n",
      "1875/1875 [==============================] - 4s 2ms/step - loss: 0.0952 - accuracy: 0.9721\n",
      "Epoch 6/15\n",
      "1875/1875 [==============================] - 4s 2ms/step - loss: 0.0797 - accuracy: 0.9768\n",
      "Epoch 7/15\n",
      "1875/1875 [==============================] - 5s 3ms/step - loss: 0.0689 - accuracy: 0.9796\n",
      "Epoch 8/15\n",
      "1875/1875 [==============================] - 5s 3ms/step - loss: 0.0600 - accuracy: 0.9824\n",
      "Epoch 9/15\n",
      "1875/1875 [==============================] - 5s 3ms/step - loss: 0.0526 - accuracy: 0.9850\n",
      "Epoch 10/15\n",
      "1875/1875 [==============================] - 6s 3ms/step - loss: 0.0471 - accuracy: 0.9861\n",
      "Epoch 11/15\n",
      "1875/1875 [==============================] - 4s 2ms/step - loss: 0.0414 - accuracy: 0.9883\n",
      "Epoch 12/15\n",
      "1875/1875 [==============================] - 4s 2ms/step - loss: 0.0371 - accuracy: 0.9897\n",
      "Epoch 13/15\n",
      "1875/1875 [==============================] - 5s 2ms/step - loss: 0.0330 - accuracy: 0.9911\n",
      "Epoch 14/15\n",
      "1875/1875 [==============================] - 4s 2ms/step - loss: 0.0297 - accuracy: 0.9918\n",
      "Epoch 15/15\n",
      "1875/1875 [==============================] - 5s 3ms/step - loss: 0.0263 - accuracy: 0.9931\n",
      "[0.0, 17.488811, 15.48064, 9.2296505]\n",
      "[0.9340999722480774, 0.9495999813079834, 0.9614999890327454, 0.9664000272750854, 0.9689000248908997, 0.9742000102996826, 0.9749000072479248, 0.975600004196167, 0.9724000096321106, 0.9767000079154968, 0.9753000140190125, 0.9746000170707703, 0.9750999808311462, 0.979200005531311, 0.9782000184059143]\n",
      "313/313 [==============================] - 1s 2ms/step - loss: 0.0699 - accuracy: 0.9782\n",
      "\n",
      "Test Loss: 0.0699\n",
      "Test Accuracy: 0.9782\n"
     ]
    }
   ],
   "source": [
    "from tensorflow.keras.optimizers import Optimizer\n",
    "end_norms=[]\n",
    "def baseline_model():\n",
    "    model = Sequential([\n",
    "        Flatten(input_shape=(28, 28)),\n",
    "        Dense(128, activation='relu'),\n",
    "        Dense(256, activation='relu'),\n",
    "        Dense(10, activation='softmax')\n",
    "    ])\n",
    "    return model\n",
    "x_train,y_train,x_test,y_test = load_data()\n",
    "\n",
    "# Get the model\n",
    "model = baseline_model()\n",
    "\n",
    "# Compile the model\n",
    "model.compile(optimizer=CoordinateDescentOptimizer(name='CD_Optimizer'), loss='categorical_crossentropy', metrics=['accuracy'])\n",
    "test_accuracy_history_baseline_cd = []\n",
    "# Train the model\n",
    "no_epochs = 15\n",
    "for epoch in range(no_epochs):\n",
    "    print(f'Epoch {epoch+1}/{no_epochs}')\n",
    "    history = model.fit(x_train, y_train, batch_size=32, epochs=1)\n",
    "    _, test_accuracy = model.evaluate(x_test, y_test, verbose=0)\n",
    "    test_accuracy_history_baseline_cd.append(test_accuracy)\n",
    "for layer in model.layers:\n",
    "    modelend_weights = layer.get_weights()\n",
    "    modelend_norm = np.linalg.norm([np.linalg.norm(w) for w in modelend_weights])  \n",
    "    end_norms.append(modelend_norm)\n",
    "print(end_norms)\n",
    "print(test_accuracy_history_baseline_cd)\n",
    "\n",
    "# Evaluate the model on test data\n",
    "loss, accuracy = model.evaluate(x_test, y_test)\n",
    "print(f'\\nTest Loss: {loss:.4f}')\n",
    "print(f'Test Accuracy: {accuracy:.4f}')"
   ]
  },
  {
   "cell_type": "code",
   "execution_count": 187,
   "id": "8a4b7c5d",
   "metadata": {},
   "outputs": [
    {
     "data": {
      "text/plain": [
       "0.9782000184059143"
      ]
     },
     "execution_count": 187,
     "metadata": {},
     "output_type": "execute_result"
    }
   ],
   "source": [
    "End2End_ta_cd=test_accuracy_history_baseline_cd[-1]\n",
    "End2End_ta_cd"
   ]
  },
  {
   "cell_type": "code",
   "execution_count": 188,
   "id": "117036d6",
   "metadata": {},
   "outputs": [
    {
     "data": {
      "text/plain": [
       "2498.8171"
      ]
     },
     "execution_count": 188,
     "metadata": {},
     "output_type": "execute_result"
    }
   ],
   "source": [
    "End2End_norm_CD=np.prod(end_norms[1:])\n",
    "End2End_norm_CD"
   ]
  },
  {
   "cell_type": "code",
   "execution_count": 189,
   "id": "b180aaed",
   "metadata": {},
   "outputs": [
    {
     "data": {
      "image/png": "[encoded data removed]",
      "text/plain": [
       "<Figure size 432x288 with 1 Axes>"
      ]
     },
     "metadata": {
      "needs_background": "light"
     },
     "output_type": "display_data"
    }
   ],
   "source": [
    "import matplotlib.pyplot as plt\n",
    "\n",
    "# Plot test accuracy history for SGD optimizer\n",
    "plt.plot(test_accuracy_history_baseline, label='SGD Optimizer')\n",
    "# Plot test accuracy history for Coordinate Descent optimizer\n",
    "plt.plot(test_accuracy_history_baseline_cd, label='Coordinate Descent Optimizer')\n",
    "\n",
    "plt.title('Test Accuracy History')\n",
    "plt.xlabel('Epoch')\n",
    "plt.ylabel('Test Accuracy')\n",
    "plt.legend()\n",
    "plt.show()\n"
   ]
  },
  {
   "cell_type": "markdown",
   "id": "8ebadb00",
   "metadata": {},
   "source": [
    "## Layer-wise Training"
   ]
  },
  {
   "cell_type": "markdown",
   "id": "f0e05cf9",
   "metadata": {},
   "source": [
    "Layer-wise training, also known as layer-wise pretraining, is a technique used in training deep neural networks. It involves training each layer of the network sequentially, one at a time, while keeping the other layers fixed. This is in contrast to traditional end-to-end training, where all layers of the network are trained simultaneously.\n",
    "\n",
    "The process of layer-wise training typically involves the following steps:\n",
    "\n",
    "Initialization: Initialize the parameters of the entire network, usually using random or pre-trained weights.\n",
    "Layer-wise Training:\n",
    "Train the first layer of the network using the input data. This involves updating the parameters (e.g., weights and biases) of only the first layer while keeping the parameters of the other layers fixed.\n",
    "Once the first layer is trained, freeze its parameters and move on to train the next layer in a similar manner.\n",
    "Repeat this process until all layers have been trained.\n",
    "\n",
    "Fine-tuning: After layer-wise training is completed, fine-tuning can be applied to the entire network. Fine-tuning involves unfreezing all layers of the network and jointly training them using backpropagation with a smaller learning rate.\n",
    "Layer-wise training was popularized by the \"greedy layer-wise pretraining\" approach used in Restricted Boltzmann Machines (RBMs) and Deep Belief Networks (DBNs). It was found to be effective in initializing the parameters of deep neural networks, especially when labeled data is scarce. Layer-wise training can help in mitigating the problem of vanishing gradients and can lead to better convergence during training.\n"
   ]
  },
  {
   "cell_type": "code",
   "execution_count": 190,
   "id": "9db2565d-1ab7-4697-8752-92d17e906e0c",
   "metadata": {},
   "outputs": [],
   "source": [
    "def create_model():\n",
    "  model = Sequential([\n",
    "      Flatten(input_shape=(28, 28)),\n",
    "        Dense(128, activation='relu'),\n",
    "        Dense(256, activation='relu'),\n",
    "        Dense(10, activation='softmax')\n",
    "  ])\n",
    "  return model"
   ]
  },
  {
   "cell_type": "code",
   "execution_count": 191,
   "id": "1bde3b7a",
   "metadata": {},
   "outputs": [],
   "source": [
    "def load_data():\n",
    "    (x_train, y_train), (x_test, y_test) = mnist.load_data()\n",
    "    x_train = x_train / 255.0\n",
    "    x_test = x_test/ 255.0\n",
    "    y_train = to_categorical(y_train, 10)\n",
    "    y_test = to_categorical(y_test, 10)\n",
    "\n",
    "    return x_train, y_train, x_test, y_test"
   ]
  },
  {
   "cell_type": "code",
   "execution_count": 192,
   "id": "8991aa5c-f189-43f1-b734-46e9cd71bd1a",
   "metadata": {},
   "outputs": [],
   "source": [
    "import numpy as np\n",
    "from tensorflow.keras.optimizers import Optimizer\n",
    "from tensorflow.keras.optimizers import SGD\n",
    "from tensorflow.keras import backend as K\n",
    "\n",
    "class CoordinateDescentOptimizer(Optimizer):\n",
    "    def __init__(self,name='CoordinateDescentOptimizer', alpha=0.03, num_iters=20, **kwargs):\n",
    "        super().__init__(name=name,**kwargs)\n",
    "        self._learning_rate = alpha\n",
    "        self.num_iters = num_iters\n",
    "        self.alpha = alpha\n",
    "        \n",
    "    def get_updates(self, loss, params):\n",
    "        grads = self.get_gradients(loss, params)\n",
    "        updates = []\n",
    "\n",
    "        for param, grad in zip(params, grads):\n",
    "            theta = K.get_value(param)\n",
    "            for i in range(self.num_iters):\n",
    "                predictions = self.softmax(X @ theta)\n",
    "                for j in range(theta.shape[1]):\n",
    "                    gradient = self.gradient_categorical_cross_entropy(X, y, theta, predictions)[:, j]\n",
    "                    theta[:, j] = theta[:, j] - self.alpha * gradient\n",
    "                J = self.categorical_cross_entropy(X, y, theta)\n",
    "            updates.append((param, theta))\n",
    "            learning_rate = self.alpha\n",
    "        \n",
    "        return updates\n",
    "\n",
    "    def update_step(self, gradients, variables):\n",
    "        updates = []\n",
    "        for gradient, variable in zip(gradients, variables):\n",
    "            new_variable = variable - self.alpha * gradient\n",
    "            updates.append((variable, new_variable))\n",
    "        return updates\n",
    "\n",
    "    def apply_gradients(self, grads_and_vars):\n",
    "        gradients, variables = zip(*grads_and_vars)\n",
    "        updates = self.update_step(gradients, variables)\n",
    "        for update in updates:\n",
    "            K.update(update[0], update[1])\n",
    "\n",
    "    def categorical_cross_entropy(self, X, y, theta):\n",
    "        m = len(y)\n",
    "        n_classes = theta.shape[1]\n",
    "        logits = X.dot(theta)\n",
    "        exp_logits = np.exp(logits - np.max(logits, axis=1, keepdims=True))\n",
    "        softmax_probs = exp_logits / np.sum(exp_logits, axis=1, keepdims=True)\n",
    "        y_one_hot = np.zeros_like(softmax_probs)\n",
    "        y_labels = np.argmax(y, axis=1)\n",
    "        y_one_hot[np.arange(m), y_labels] = 1\n",
    "\n",
    "        loss = -np.sum(y_one_hot * np.log(softmax_probs + 1e-15)) / m\n",
    "\n",
    "        return loss\n",
    "\n",
    "    def softmax(self, x):\n",
    "        exp_x = np.exp(x - np.max(x, axis=1, keepdims=True))\n",
    "        return exp_x / np.sum(exp_x, axis=1, keepdims=True)\n",
    "\n",
    "    def gradient_categorical_cross_entropy(self, X, y, theta, predictions):\n",
    "        m, n = X.shape\n",
    "        C = theta.shape[1]\n",
    "        gradient = np.zeros_like(theta)\n",
    "        for j in range(C):\n",
    "            for k in range(n):\n",
    "                gradient[k, j] = np.sum(X[:, k] * (predictions[:, j] - (y[:, j])))\n",
    "\n",
    "        return gradient / m\n"
   ]
  },
  {
   "cell_type": "markdown",
   "id": "7f0d74ce",
   "metadata": {},
   "source": [
    "### Layer-wise CD"
   ]
  },
  {
   "cell_type": "code",
   "execution_count": 193,
   "id": "f694b213",
   "metadata": {},
   "outputs": [
    {
     "name": "stdout",
     "output_type": "stream",
     "text": [
      "[<keras.src.layers.reshaping.flatten.Flatten object at 0x00000211C403A4F0>, <keras.src.layers.core.dense.Dense object at 0x00000211C4033B20>, <keras.src.layers.core.dense.Dense object at 0x00000211C04966A0>, <keras.src.layers.core.dense.Dense object at 0x00000211C0496820>]\n",
      "Layer 1 Training\n",
      "Epoch 1/5\n",
      "1875/1875 [==============================] - 4s 2ms/step - loss: 0.4226 - accuracy: 0.8823\n",
      "Epoch 2/5\n",
      "1875/1875 [==============================] - 4s 2ms/step - loss: 0.2013 - accuracy: 0.9421\n",
      "Epoch 3/5\n",
      "1875/1875 [==============================] - 4s 2ms/step - loss: 0.1482 - accuracy: 0.9564\n",
      "Epoch 4/5\n",
      "1875/1875 [==============================] - 4s 2ms/step - loss: 0.1174 - accuracy: 0.9653\n",
      "Epoch 5/5\n",
      "1875/1875 [==============================] - 4s 2ms/step - loss: 0.0968 - accuracy: 0.9714\n",
      "Test accuracy: [[0.9236000180244446, 0.9510999917984009, 0.9585000276565552, 0.9660000205039978, 0.9700000286102295]]\n",
      "Norm of layer: [16.25875]\n",
      "Layer 2 Training\n",
      "Epoch 1/5\n",
      "1875/1875 [==============================] - 5s 3ms/step - loss: 0.0823 - accuracy: 0.9755\n",
      "Epoch 2/5\n",
      "1875/1875 [==============================] - 5s 3ms/step - loss: 0.0717 - accuracy: 0.9795\n",
      "Epoch 3/5\n",
      "1875/1875 [==============================] - 5s 3ms/step - loss: 0.0631 - accuracy: 0.9816\n",
      "Epoch 4/5\n",
      "1875/1875 [==============================] - 5s 3ms/step - loss: 0.0550 - accuracy: 0.9836\n",
      "Epoch 5/5\n",
      "1875/1875 [==============================] - 6s 3ms/step - loss: 0.0484 - accuracy: 0.9858\n",
      "Test accuracy: [[0.9236000180244446, 0.9510999917984009, 0.9585000276565552, 0.9660000205039978, 0.9700000286102295], [0.9697999954223633, 0.9729999899864197, 0.9742000102996826, 0.9754999876022339, 0.9760000109672546]]\n",
      "Norm of layer: [16.25875, 15.03957]\n",
      "Layer 3 Training\n",
      "Epoch 1/5\n",
      "1875/1875 [==============================] - 5s 3ms/step - loss: 0.0433 - accuracy: 0.9875\n",
      "Epoch 2/5\n",
      "1875/1875 [==============================] - 5s 3ms/step - loss: 0.0389 - accuracy: 0.9891\n",
      "Epoch 3/5\n",
      "1875/1875 [==============================] - 5s 3ms/step - loss: 0.0349 - accuracy: 0.9899\n",
      "Epoch 4/5\n",
      "1875/1875 [==============================] - 6s 3ms/step - loss: 0.0309 - accuracy: 0.9914\n",
      "Epoch 5/5\n",
      "1875/1875 [==============================] - 4s 2ms/step - loss: 0.0278 - accuracy: 0.9926\n",
      "Test accuracy: [[0.9236000180244446, 0.9510999917984009, 0.9585000276565552, 0.9660000205039978, 0.9700000286102295], [0.9697999954223633, 0.9729999899864197, 0.9742000102996826, 0.9754999876022339, 0.9760000109672546], [0.9757999777793884, 0.9771000146865845, 0.9768999814987183, 0.9782999753952026, 0.9783999919891357]]\n",
      "Norm of layer: [16.25875, 15.03957, 9.149824]\n"
     ]
    }
   ],
   "source": [
    "layer_norms_cd = []\n",
    "layer_test_accuracy_histories_cd = []\n",
    "#sgd = SGD(lr=0.03)\n",
    "num_epochs = 5\n",
    "x_train, y_train, x_test, y_test = load_data()\n",
    "model = create_model()\n",
    "optimizer_cd = CoordinateDescentOptimizer(name='CD_Optimizer')\n",
    "print(model.layers)\n",
    "model.compile(optimizer=optimizer_cd, loss='categorical_crossentropy', metrics=['accuracy'])\n",
    "for i, layer in enumerate(model.layers[1:]): \n",
    "    print(f'Layer {i+1} Training')\n",
    "    test_accuracy_history = []\n",
    "    for l in model.layers:\n",
    "        l.trainable =  (l == layer)\n",
    "    for epoch in range(num_epochs):\n",
    "        print(f'Epoch {epoch+1}/{num_epochs}')\n",
    "        history = model.fit(x_train, y_train, batch_size=32, epochs=1)\n",
    "        _, test_accuracy = model.evaluate(x_test, y_test, verbose=0)\n",
    "        test_accuracy_history.append(test_accuracy)\n",
    "        \n",
    "    layer_test_accuracy_histories_cd.append(test_accuracy_history)\n",
    "    layer_weights = model.layers[i+1].get_weights()\n",
    "    layer_norm = np.linalg.norm([np.linalg.norm(w) for w in layer_weights])\n",
    "    layer_norms_cd.append(layer_norm)\n",
    "    print('Test accuracy:',layer_test_accuracy_histories_cd)\n",
    "    print('Norm of layer:',layer_norms_cd)\n"
   ]
  },
  {
   "cell_type": "code",
   "execution_count": 194,
   "id": "1733b386",
   "metadata": {},
   "outputs": [
    {
     "name": "stdout",
     "output_type": "stream",
     "text": [
      "0.9783999919891357\n"
     ]
    }
   ],
   "source": [
    "layerwise_ta_cd = (layer_test_accuracy_histories_cd[-1])[-1]\n",
    "layerwise_ta_cd\n"
   ]
  },
  {
   "cell_type": "code",
   "execution_count": 195,
   "id": "69278d6c",
   "metadata": {},
   "outputs": [
    {
     "data": {
      "text/plain": [
       "2237.3574"
      ]
     },
     "execution_count": 195,
     "metadata": {},
     "output_type": "execute_result"
    }
   ],
   "source": [
    "layerwise_norm_cd = np.prod(layer_norms_cd)\n",
    "layerwise_norm_cd"
   ]
  },
  {
   "cell_type": "code",
   "execution_count": 196,
   "id": "2088ee30",
   "metadata": {},
   "outputs": [
    {
     "data": {
      "image/png": "[encoded data removed]",
      "text/plain": [
       "<Figure size 720x360 with 1 Axes>"
      ]
     },
     "metadata": {
      "needs_background": "light"
     },
     "output_type": "display_data"
    },
    {
     "data": {
      "image/png": "[encoded data removed]",
      "text/plain": [
       "<Figure size 720x360 with 1 Axes>"
      ]
     },
     "metadata": {
      "needs_background": "light"
     },
     "output_type": "display_data"
    }
   ],
   "source": [
    "import matplotlib.pyplot as plt\n",
    "\n",
    "# Plotting test accuracy\n",
    "plt.figure(figsize=(10, 5))\n",
    "for i, accuracy_history in enumerate(layer_test_accuracy_histories_cd, start=1):\n",
    "    plt.plot(range(1, num_epochs + 1), accuracy_history, label=f'Layer {i}')\n",
    "plt.xlabel('Epoch')\n",
    "plt.ylabel('Test Accuracy')\n",
    "plt.title('Test Accuracy vs Epoch')\n",
    "plt.legend()\n",
    "plt.grid(True)\n",
    "plt.show()\n",
    "\n",
    "# Plotting norm of layers\n",
    "plt.figure(figsize=(10, 5))\n",
    "plt.plot(range(1, len(layer_norms_cd) + 1), layer_norms_cd, marker='o', linestyle='-')\n",
    "plt.xlabel('Layer')\n",
    "plt.ylabel('Norm')\n",
    "plt.title('Norm of Layers')\n",
    "plt.grid(True)\n",
    "plt.show()\n"
   ]
  },
  {
   "cell_type": "markdown",
   "id": "f6a133da",
   "metadata": {},
   "source": [
    "### Layer wise SGD"
   ]
  },
  {
   "cell_type": "code",
   "execution_count": null,
   "id": "74a0c098",
   "metadata": {},
   "outputs": [],
   "source": []
  },
  {
   "cell_type": "code",
   "execution_count": 197,
   "id": "582ce591",
   "metadata": {},
   "outputs": [
    {
     "name": "stderr",
     "output_type": "stream",
     "text": [
      "WARNING:absl:`lr` is deprecated in Keras optimizer, please use `learning_rate` or use the legacy optimizer, e.g.,tf.keras.optimizers.legacy.SGD.\n"
     ]
    },
    {
     "name": "stdout",
     "output_type": "stream",
     "text": [
      "[<keras.src.layers.reshaping.flatten.Flatten object at 0x00000211B7BE87C0>, <keras.src.layers.core.dense.Dense object at 0x00000211B75C7DC0>, <keras.src.layers.core.dense.Dense object at 0x00000211B75C7BE0>, <keras.src.layers.core.dense.Dense object at 0x00000211B3D56220>]\n",
      "Layer 1 Training\n",
      "Epoch 1/5\n",
      "1875/1875 [==============================] - 5s 2ms/step - loss: 0.6330 - accuracy: 0.8387\n",
      "Epoch 2/5\n",
      "1875/1875 [==============================] - 4s 2ms/step - loss: 0.2988 - accuracy: 0.9140\n",
      "Epoch 3/5\n",
      "1875/1875 [==============================] - 5s 3ms/step - loss: 0.2484 - accuracy: 0.9286\n",
      "Epoch 4/5\n",
      "1875/1875 [==============================] - 5s 3ms/step - loss: 0.2146 - accuracy: 0.9382\n",
      "Epoch 5/5\n",
      "1875/1875 [==============================] - 4s 2ms/step - loss: 0.1885 - accuracy: 0.9457\n",
      "Test accuracy: [[0.9096999764442444, 0.9261999726295471, 0.9341999888420105, 0.9437999725341797, 0.9502999782562256]]\n",
      "Norm of layer: [15.494753]\n",
      "Layer 2 Training\n",
      "Epoch 1/5\n",
      "1875/1875 [==============================] - 4s 2ms/step - loss: 0.1675 - accuracy: 0.9524\n",
      "Epoch 2/5\n",
      "1875/1875 [==============================] - 4s 2ms/step - loss: 0.1507 - accuracy: 0.9568\n",
      "Epoch 3/5\n",
      "1875/1875 [==============================] - 4s 2ms/step - loss: 0.1368 - accuracy: 0.9608\n",
      "Epoch 4/5\n",
      "1875/1875 [==============================] - 5s 3ms/step - loss: 0.1248 - accuracy: 0.9643\n",
      "Epoch 5/5\n",
      "1875/1875 [==============================] - 5s 3ms/step - loss: 0.1148 - accuracy: 0.9668\n",
      "Test accuracy: [[0.9096999764442444, 0.9261999726295471, 0.9341999888420105, 0.9437999725341797, 0.9502999782562256], [0.9524000287055969, 0.9557999968528748, 0.9606000185012817, 0.9634000062942505, 0.9635999798774719]]\n",
      "Norm of layer: [15.494753, 14.141108]\n",
      "Layer 3 Training\n",
      "Epoch 1/5\n",
      "1875/1875 [==============================] - 6s 3ms/step - loss: 0.1062 - accuracy: 0.9695\n",
      "Epoch 2/5\n",
      "1875/1875 [==============================] - 5s 3ms/step - loss: 0.0985 - accuracy: 0.9720\n",
      "Epoch 3/5\n",
      "1875/1875 [==============================] - 6s 3ms/step - loss: 0.0920 - accuracy: 0.9736\n",
      "Epoch 4/5\n",
      "1875/1875 [==============================] - 5s 3ms/step - loss: 0.0860 - accuracy: 0.9751\n",
      "Epoch 5/5\n",
      "1875/1875 [==============================] - 6s 3ms/step - loss: 0.0807 - accuracy: 0.9774\n",
      "Test accuracy: [[0.9096999764442444, 0.9261999726295471, 0.9341999888420105, 0.9437999725341797, 0.9502999782562256], [0.9524000287055969, 0.9557999968528748, 0.9606000185012817, 0.9634000062942505, 0.9635999798774719], [0.9653000235557556, 0.9664999842643738, 0.9692999720573425, 0.9692000150680542, 0.9710999727249146]]\n",
      "Norm of layer: [15.494753, 14.141108, 7.5741644]\n"
     ]
    }
   ],
   "source": [
    "layer_norms_sgd = []\n",
    "layer_test_accuracy_histories_sgd = []\n",
    "sgd = SGD(lr=0.03)\n",
    "num_epochs = 5\n",
    "x_train, y_train, x_test, y_test = load_data()\n",
    "model = create_model()\n",
    "print(model.layers)\n",
    "model.compile(optimizer=sgd, loss='categorical_crossentropy', metrics=['accuracy'])\n",
    "for i, layer in enumerate(model.layers[1:]): \n",
    "    print(f'Layer {i+1} Training')\n",
    "    test_accuracy_history = []\n",
    "    for l in model.layers:\n",
    "        l.trainable =  (l == layer)\n",
    "    for epoch in range(num_epochs):\n",
    "        print(f'Epoch {epoch+1}/{num_epochs}')\n",
    "        history = model.fit(x_train, y_train, batch_size=32, epochs=1)\n",
    "        _, test_accuracy = model.evaluate(x_test, y_test, verbose=0)\n",
    "        test_accuracy_history.append(test_accuracy)\n",
    "        \n",
    "    layer_test_accuracy_histories_sgd.append(test_accuracy_history)\n",
    "    layer_weights = model.layers[i+1].get_weights()\n",
    "    layer_norm = np.linalg.norm([np.linalg.norm(w) for w in layer_weights])\n",
    "    layer_norms_sgd.append(layer_norm)\n",
    "    print('Test accuracy:',layer_test_accuracy_histories_sgd)\n",
    "    print('Norm of layer:',layer_norms_sgd)"
   ]
  },
  {
   "cell_type": "code",
   "execution_count": 198,
   "id": "7b0035b8",
   "metadata": {},
   "outputs": [
    {
     "data": {
      "text/plain": [
       "0.9710999727249146"
      ]
     },
     "execution_count": 198,
     "metadata": {},
     "output_type": "execute_result"
    }
   ],
   "source": [
    "layerwise_ta_sgd=(layer_test_accuracy_histories_sgd[-1])[-1]\n",
    "layerwise_ta_sgd"
   ]
  },
  {
   "cell_type": "code",
   "execution_count": 199,
   "id": "2a644a87",
   "metadata": {},
   "outputs": [
    {
     "data": {
      "text/plain": [
       "1659.5975"
      ]
     },
     "execution_count": 199,
     "metadata": {},
     "output_type": "execute_result"
    }
   ],
   "source": [
    "layerwise_norm_sgd=np.prod(layer_norms_sgd)\n",
    "layerwise_norm_sgd"
   ]
  },
  {
   "cell_type": "code",
   "execution_count": 200,
   "id": "f3ee065c",
   "metadata": {},
   "outputs": [
    {
     "data": {
      "image/png": "[encoded data removed]",
      "text/plain": [
       "<Figure size 720x360 with 1 Axes>"
      ]
     },
     "metadata": {
      "needs_background": "light"
     },
     "output_type": "display_data"
    },
    {
     "data": {
      "image/png": "[encoded data removed]",
      "text/plain": [
       "<Figure size 720x360 with 1 Axes>"
      ]
     },
     "metadata": {
      "needs_background": "light"
     },
     "output_type": "display_data"
    }
   ],
   "source": [
    "import matplotlib.pyplot as plt\n",
    "\n",
    "# Plotting test accuracy\n",
    "plt.figure(figsize=(10, 5))\n",
    "for i, accuracy_history in enumerate(layer_test_accuracy_histories_sgd, start=1):\n",
    "    plt.plot(range(1, num_epochs + 1), accuracy_history, label=f'Layer {i}')\n",
    "plt.xlabel('Epoch')\n",
    "plt.ylabel('Test Accuracy')\n",
    "plt.title('Test Accuracy vs Epoch')\n",
    "plt.legend()\n",
    "plt.grid(True)\n",
    "plt.show()\n",
    "\n",
    "# Plotting norm of layers\n",
    "plt.figure(figsize=(10, 5))\n",
    "plt.plot(range(1, len(layer_norms_cd) + 1), layer_norms_sgd, marker='o', linestyle='-')\n",
    "plt.xlabel('Layer')\n",
    "plt.ylabel('Norm')\n",
    "plt.title('Norm of Layers')\n",
    "plt.grid(True)\n",
    "plt.show()\n"
   ]
  },
  {
   "cell_type": "markdown",
   "id": "6d17ea63",
   "metadata": {},
   "source": [
    "## End to End and Layer-wise comparision"
   ]
  },
  {
   "cell_type": "code",
   "execution_count": 205,
   "id": "478dd5dc",
   "metadata": {},
   "outputs": [
    {
     "data": {
      "image/png": "[encoded data removed]",
      "text/plain": [
       "<Figure size 864x432 with 2 Axes>"
      ]
     },
     "metadata": {
      "needs_background": "light"
     },
     "output_type": "display_data"
    }
   ],
   "source": [
    "import matplotlib.pyplot as plt\n",
    "\n",
    "# Plot graph\n",
    "labels = ['End2End SGD', 'End2End CD', 'Layerwise SGD', 'Layerwise CD']\n",
    "values_ta = [End2End_ta_sgd, End2End_ta_cd, layerwise_ta_sgd, layerwise_ta_cd]\n",
    "values_norm = [End2End_norm_SGD, End2End_norm_CD, layerwise_norm_sgd, layerwise_norm_cd]\n",
    "\n",
    "plt.figure(figsize=(12, 6))\n",
    "\n",
    "# Plot Test Accuracy\n",
    "plt.subplot(1, 2, 1)\n",
    "for i, value in enumerate(values_ta):\n",
    "    plt.bar(labels[i], value, color=f'C{i}', label=f'{labels[i]}: {value:.4f}', alpha=0.6, edgecolor='black')\n",
    "plt.title('Test Accuracy')\n",
    "plt.ylabel('Accuracy')\n",
    "plt.ylim(0, 1)\n",
    "plt.legend(loc='lower right')\n",
    "\n",
    "# Plot Norm\n",
    "plt.subplot(1, 2, 2)\n",
    "for i, value in enumerate(values_norm):\n",
    "    plt.bar(labels[i], value, color=f'C{i}', label=f'{labels[i]}: {value:.4f}', alpha=0.6, edgecolor='black')\n",
    "plt.title('Norm')\n",
    "plt.ylabel('Norm Value')\n",
    "plt.legend(loc='upper right')\n",
    "\n",
    "plt.tight_layout()\n",
    "plt.show()\n"
   ]
  },
  {
   "cell_type": "code",
   "execution_count": 206,
   "id": "85a25233",
   "metadata": {},
   "outputs": [
    {
     "name": "stdout",
     "output_type": "stream",
     "text": [
      "Test Accuracy Values: [0.9706000089645386, 0.9782000184059143, 0.9710999727249146, 0.9783999919891357]\n",
      "Norm Values: [1753.5505, 2498.8171, 1659.5975, 2237.3574]\n"
     ]
    }
   ],
   "source": [
    "# Plot graph\n",
    "labels = ['End2End SGD', 'End2End CD', 'Layerwise SGD', 'Layerwise CD']\n",
    "values_ta = [End2End_ta_sgd, End2End_ta_cd, layerwise_ta_sgd, layerwise_ta_cd]\n",
    "values_norm = [End2End_norm_SGD, End2End_norm_CD, layerwise_norm_sgd, layerwise_norm_cd]\n",
    "\n",
    "print(\"Test Accuracy Values:\", values_ta)\n",
    "print(\"Norm Values:\", values_norm)"
   ]
  },
  {
   "cell_type": "markdown",
   "id": "d6bb8984",
   "metadata": {},
   "source": [
    "### 1. Test error - do the above 2 algorithms achieve similar performance?"
   ]
  },
  {
   "cell_type": "code",
   "execution_count": 207,
   "id": "859878ad",
   "metadata": {},
   "outputs": [
    {
     "data": {
      "image/png": "[encoded data removed]",
      "text/plain": [
       "<Figure size 864x432 with 1 Axes>"
      ]
     },
     "metadata": {
      "needs_background": "light"
     },
     "output_type": "display_data"
    }
   ],
   "source": [
    "import matplotlib.pyplot as plt\n",
    "\n",
    "# Plot graph\n",
    "labels = [ 'Layerwise SGD', 'Layerwise CD']\n",
    "values_ta = [layerwise_ta_sgd, layerwise_ta_cd]\n",
    "\n",
    "\n",
    "plt.figure(figsize=(12, 6))\n",
    "\n",
    "# Plot Test Accuracy\n",
    "plt.subplot(1, 2, 1)\n",
    "for i, value in enumerate(values_ta):\n",
    "    plt.bar(labels[i], value, color=f'C{i}', label=f'{labels[i]}: {value:.4f}', alpha=0.6, edgecolor='black')\n",
    "plt.title('Test Accuracy')\n",
    "plt.ylabel('Accuracy')\n",
    "plt.ylim(0, 1)\n",
    "plt.legend(loc='lower right')\n",
    "\n",
    "\n",
    "plt.tight_layout()\n",
    "plt.show()\n"
   ]
  },
  {
   "cell_type": "markdown",
   "id": "f234a0bb",
   "metadata": {},
   "source": [
    "The difference in test accuracies between the Coordinate Descent (CD) and Stochastic Gradient Descent (SGD) optimization methods is minimal, indicating that both methods achieve similar performance in this scenario. This suggests that either optimization method could be effectively used for training the model, and the choice between them may depend on other factors such as computational efficiency, ease of implementation, or specific requirements of the problem at hand."
   ]
  },
  {
   "cell_type": "markdown",
   "id": "16b047ab",
   "metadata": {},
   "source": [
    "### 2.Norm of the neural network - do the above 3 algorithms find the same solutions in terms of the norm (defined as products of the norms of all the layers)?"
   ]
  },
  {
   "cell_type": "code",
   "execution_count": 208,
   "id": "4495f37c",
   "metadata": {},
   "outputs": [
    {
     "data": {
      "image/png": "[encoded data removed]",
      "text/plain": [
       "<Figure size 864x432 with 1 Axes>"
      ]
     },
     "metadata": {
      "needs_background": "light"
     },
     "output_type": "display_data"
    }
   ],
   "source": [
    "import matplotlib.pyplot as plt\n",
    "\n",
    "# Plot graph\n",
    "labels = [ 'Layerwise SGD', 'Layerwise CD']\n",
    "values_norm = [layerwise_norm_sgd, layerwise_norm_cd]\n",
    "\n",
    "plt.figure(figsize=(12, 6))\n",
    "\n",
    "\n",
    "# Plot Norm\n",
    "plt.subplot(1, 2, 2)\n",
    "for i, value in enumerate(values_norm):\n",
    "    plt.bar(labels[i], value, color=f'C{i}', label=f'{labels[i]}: {value:.4f}', alpha=0.6, edgecolor='black')\n",
    "plt.title('Norm')\n",
    "plt.ylabel('Norm Value')\n",
    "plt.legend(loc='upper right')\n",
    "\n",
    "plt.tight_layout()\n",
    "plt.show()\n",
    "\n"
   ]
  },
  {
   "cell_type": "markdown",
   "id": "7705a97f",
   "metadata": {},
   "source": [
    "No, it seems that the norms for the Coordinate Descent (CD) and Stochastic Gradient Descent (SGD) algorithms are not the same, indicating potential differences in the solutions found by these algorithms. This suggests that they may converge to different local minima or achieve different regularization effects during training."
   ]
  },
  {
   "cell_type": "code",
   "execution_count": null,
   "id": "8fba5628",
   "metadata": {},
   "outputs": [],
   "source": []
  }
 ],
 "metadata": {
  "kernelspec": {
   "display_name": "Python 3 (ipykernel)",
   "language": "python",
   "name": "python3"
  },
  "language_info": {
   "codemirror_mode": {
    "name": "ipython",
    "version": 3
   },
   "file_extension": ".py",
   "mimetype": "text/x-python",
   "name": "python",
   "nbconvert_exporter": "python",
   "pygments_lexer": "ipython3",
   "version": "3.9.12"
  }
 },
 "nbformat": 4,
 "nbformat_minor": 5
}
